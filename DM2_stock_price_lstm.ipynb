{
  "cells": [
    {
      "cell_type": "markdown",
      "metadata": {
        "id": "view-in-github",
        "colab_type": "text"
      },
      "source": [
        "<a href=\"https://colab.research.google.com/github/gitamgadtaula/stock-market-lstm/blob/main/DM2_stock_price_lstm.ipynb\" target=\"_parent\"><img src=\"https://colab.research.google.com/assets/colab-badge.svg\" alt=\"Open In Colab\"/></a>"
      ]
    },
    {
      "cell_type": "code",
      "execution_count": null,
      "metadata": {
        "colab": {
          "base_uri": "https://localhost:8080/",
          "height": 256
        },
        "id": "WxpcQK9MWJtf",
        "outputId": "291b118f-2ff7-4823-a5df-cf9c6f8bcd41"
      },
      "outputs": [
        {
          "output_type": "stream",
          "name": "stdout",
          "text": [
            "\r[*********************100%***********************]  1 of 1 completed\n"
          ]
        },
        {
          "output_type": "execute_result",
          "data": {
            "text/plain": [
              "                 Open       High        Low      Close  Adj Close     Volume\n",
              "Date                                                                        \n",
              "2016-01-04  25.652500  26.342501  25.500000  26.337500  24.111496  270597600\n",
              "2016-01-05  26.437500  26.462500  25.602501  25.677500  23.507277  223164000\n",
              "2016-01-06  25.139999  25.592501  24.967501  25.174999  23.047256  273829600\n",
              "2016-01-07  24.670000  25.032499  24.107500  24.112499  22.074554  324377600\n",
              "2016-01-08  24.637501  24.777500  24.190001  24.240000  22.191273  283192000"
            ],
            "text/html": [
              "\n",
              "  <div id=\"df-34b813b5-178a-4b60-9976-8ca5f89da502\">\n",
              "    <div class=\"colab-df-container\">\n",
              "      <div>\n",
              "<style scoped>\n",
              "    .dataframe tbody tr th:only-of-type {\n",
              "        vertical-align: middle;\n",
              "    }\n",
              "\n",
              "    .dataframe tbody tr th {\n",
              "        vertical-align: top;\n",
              "    }\n",
              "\n",
              "    .dataframe thead th {\n",
              "        text-align: right;\n",
              "    }\n",
              "</style>\n",
              "<table border=\"1\" class=\"dataframe\">\n",
              "  <thead>\n",
              "    <tr style=\"text-align: right;\">\n",
              "      <th></th>\n",
              "      <th>Open</th>\n",
              "      <th>High</th>\n",
              "      <th>Low</th>\n",
              "      <th>Close</th>\n",
              "      <th>Adj Close</th>\n",
              "      <th>Volume</th>\n",
              "    </tr>\n",
              "    <tr>\n",
              "      <th>Date</th>\n",
              "      <th></th>\n",
              "      <th></th>\n",
              "      <th></th>\n",
              "      <th></th>\n",
              "      <th></th>\n",
              "      <th></th>\n",
              "    </tr>\n",
              "  </thead>\n",
              "  <tbody>\n",
              "    <tr>\n",
              "      <th>2016-01-04</th>\n",
              "      <td>25.652500</td>\n",
              "      <td>26.342501</td>\n",
              "      <td>25.500000</td>\n",
              "      <td>26.337500</td>\n",
              "      <td>24.111496</td>\n",
              "      <td>270597600</td>\n",
              "    </tr>\n",
              "    <tr>\n",
              "      <th>2016-01-05</th>\n",
              "      <td>26.437500</td>\n",
              "      <td>26.462500</td>\n",
              "      <td>25.602501</td>\n",
              "      <td>25.677500</td>\n",
              "      <td>23.507277</td>\n",
              "      <td>223164000</td>\n",
              "    </tr>\n",
              "    <tr>\n",
              "      <th>2016-01-06</th>\n",
              "      <td>25.139999</td>\n",
              "      <td>25.592501</td>\n",
              "      <td>24.967501</td>\n",
              "      <td>25.174999</td>\n",
              "      <td>23.047256</td>\n",
              "      <td>273829600</td>\n",
              "    </tr>\n",
              "    <tr>\n",
              "      <th>2016-01-07</th>\n",
              "      <td>24.670000</td>\n",
              "      <td>25.032499</td>\n",
              "      <td>24.107500</td>\n",
              "      <td>24.112499</td>\n",
              "      <td>22.074554</td>\n",
              "      <td>324377600</td>\n",
              "    </tr>\n",
              "    <tr>\n",
              "      <th>2016-01-08</th>\n",
              "      <td>24.637501</td>\n",
              "      <td>24.777500</td>\n",
              "      <td>24.190001</td>\n",
              "      <td>24.240000</td>\n",
              "      <td>22.191273</td>\n",
              "      <td>283192000</td>\n",
              "    </tr>\n",
              "  </tbody>\n",
              "</table>\n",
              "</div>\n",
              "      <button class=\"colab-df-convert\" onclick=\"convertToInteractive('df-34b813b5-178a-4b60-9976-8ca5f89da502')\"\n",
              "              title=\"Convert this dataframe to an interactive table.\"\n",
              "              style=\"display:none;\">\n",
              "        \n",
              "  <svg xmlns=\"http://www.w3.org/2000/svg\" height=\"24px\"viewBox=\"0 0 24 24\"\n",
              "       width=\"24px\">\n",
              "    <path d=\"M0 0h24v24H0V0z\" fill=\"none\"/>\n",
              "    <path d=\"M18.56 5.44l.94 2.06.94-2.06 2.06-.94-2.06-.94-.94-2.06-.94 2.06-2.06.94zm-11 1L8.5 8.5l.94-2.06 2.06-.94-2.06-.94L8.5 2.5l-.94 2.06-2.06.94zm10 10l.94 2.06.94-2.06 2.06-.94-2.06-.94-.94-2.06-.94 2.06-2.06.94z\"/><path d=\"M17.41 7.96l-1.37-1.37c-.4-.4-.92-.59-1.43-.59-.52 0-1.04.2-1.43.59L10.3 9.45l-7.72 7.72c-.78.78-.78 2.05 0 2.83L4 21.41c.39.39.9.59 1.41.59.51 0 1.02-.2 1.41-.59l7.78-7.78 2.81-2.81c.8-.78.8-2.07 0-2.86zM5.41 20L4 18.59l7.72-7.72 1.47 1.35L5.41 20z\"/>\n",
              "  </svg>\n",
              "      </button>\n",
              "      \n",
              "  <style>\n",
              "    .colab-df-container {\n",
              "      display:flex;\n",
              "      flex-wrap:wrap;\n",
              "      gap: 12px;\n",
              "    }\n",
              "\n",
              "    .colab-df-convert {\n",
              "      background-color: #E8F0FE;\n",
              "      border: none;\n",
              "      border-radius: 50%;\n",
              "      cursor: pointer;\n",
              "      display: none;\n",
              "      fill: #1967D2;\n",
              "      height: 32px;\n",
              "      padding: 0 0 0 0;\n",
              "      width: 32px;\n",
              "    }\n",
              "\n",
              "    .colab-df-convert:hover {\n",
              "      background-color: #E2EBFA;\n",
              "      box-shadow: 0px 1px 2px rgba(60, 64, 67, 0.3), 0px 1px 3px 1px rgba(60, 64, 67, 0.15);\n",
              "      fill: #174EA6;\n",
              "    }\n",
              "\n",
              "    [theme=dark] .colab-df-convert {\n",
              "      background-color: #3B4455;\n",
              "      fill: #D2E3FC;\n",
              "    }\n",
              "\n",
              "    [theme=dark] .colab-df-convert:hover {\n",
              "      background-color: #434B5C;\n",
              "      box-shadow: 0px 1px 3px 1px rgba(0, 0, 0, 0.15);\n",
              "      filter: drop-shadow(0px 1px 2px rgba(0, 0, 0, 0.3));\n",
              "      fill: #FFFFFF;\n",
              "    }\n",
              "  </style>\n",
              "\n",
              "      <script>\n",
              "        const buttonEl =\n",
              "          document.querySelector('#df-34b813b5-178a-4b60-9976-8ca5f89da502 button.colab-df-convert');\n",
              "        buttonEl.style.display =\n",
              "          google.colab.kernel.accessAllowed ? 'block' : 'none';\n",
              "\n",
              "        async function convertToInteractive(key) {\n",
              "          const element = document.querySelector('#df-34b813b5-178a-4b60-9976-8ca5f89da502');\n",
              "          const dataTable =\n",
              "            await google.colab.kernel.invokeFunction('convertToInteractive',\n",
              "                                                     [key], {});\n",
              "          if (!dataTable) return;\n",
              "\n",
              "          const docLinkHtml = 'Like what you see? Visit the ' +\n",
              "            '<a target=\"_blank\" href=https://colab.research.google.com/notebooks/data_table.ipynb>data table notebook</a>'\n",
              "            + ' to learn more about interactive tables.';\n",
              "          element.innerHTML = '';\n",
              "          dataTable['output_type'] = 'display_data';\n",
              "          await google.colab.output.renderOutput(dataTable, element);\n",
              "          const docLink = document.createElement('div');\n",
              "          docLink.innerHTML = docLinkHtml;\n",
              "          element.appendChild(docLink);\n",
              "        }\n",
              "      </script>\n",
              "    </div>\n",
              "  </div>\n",
              "  "
            ]
          },
          "metadata": {},
          "execution_count": 14
        }
      ],
      "source": [
        "import math\n",
        "# !pip install yfinance\n",
        "import yfinance as yf\n",
        "import numpy as np\n",
        "import pandas as pd\n",
        "from sklearn.preprocessing import MinMaxScaler \n",
        "import matplotlib.pyplot as plt\n",
        "import tensorflow as tf\n",
        "from tensorflow import keras\n",
        "from tensorflow.keras import layers\n",
        "\n",
        "stock_data = yf.download('AAPL', start='2016-01-01', end='2022-10-01')\n",
        "stock_data.head()"
      ]
    },
    {
      "cell_type": "code",
      "execution_count": null,
      "metadata": {
        "colab": {
          "base_uri": "https://localhost:8080/",
          "height": 531
        },
        "id": "ph05WdKGWS8m",
        "outputId": "5464e790-a5e1-422a-b06b-bc0adbc1907b"
      },
      "outputs": [
        {
          "output_type": "execute_result",
          "data": {
            "text/plain": [
              "Text(0, 0.5, 'Prices ($)')"
            ]
          },
          "metadata": {},
          "execution_count": 4
        },
        {
          "output_type": "display_data",
          "data": {
            "text/plain": [
              "<Figure size 1080x576 with 1 Axes>"
            ],
            "image/png": "[encoded data removed]"
          },
          "metadata": {
            "needs_background": "light"
          }
        }
      ],
      "source": [
        "plt.figure(figsize=(15, 8))\n",
        "plt.title('Stock Prices History')\n",
        "plt.plot(stock_data['Close'])\n",
        "plt.xlabel('Date')\n",
        "plt.ylabel('Prices ($)')"
      ]
    },
    {
      "cell_type": "code",
      "execution_count": null,
      "metadata": {
        "id": "8qDqh3urW8_N",
        "colab": {
          "base_uri": "https://localhost:8080/"
        },
        "outputId": "4287ba88-3f98-4734-e7af-671b6e4bdace"
      },
      "outputs": [
        {
          "output_type": "stream",
          "name": "stdout",
          "text": [
            "[ 26.33749962  25.67749977  25.17499924 ... 149.83999634 142.47999573\n",
            " 138.19999695]\n",
            "[[[0.02353772]\n",
            "  [0.01939784]\n",
            "  [0.01624589]\n",
            "  ...\n",
            "  [0.02328682]\n",
            "  [0.02719148]\n",
            "  [0.03013957]]\n",
            "\n",
            " [[0.01939784]\n",
            "  [0.01624589]\n",
            "  [0.00958131]\n",
            "  ...\n",
            "  [0.02719148]\n",
            "  [0.03013957]\n",
            "  [0.02924573]]\n",
            "\n",
            " [[0.01624589]\n",
            "  [0.00958131]\n",
            "  [0.01038106]\n",
            "  ...\n",
            "  [0.03013957]\n",
            "  [0.02924573]\n",
            "  [0.03081387]]\n",
            "\n",
            " ...\n",
            "\n",
            " [[0.65990281]\n",
            "  [0.64315513]\n",
            "  [0.62396112]\n",
            "  ...\n",
            "  [0.65689196]\n",
            "  [0.6450996 ]\n",
            "  [0.65557474]]\n",
            "\n",
            " [[0.64315513]\n",
            "  [0.62396112]\n",
            "  [0.61185511]\n",
            "  ...\n",
            "  [0.6450996 ]\n",
            "  [0.65557474]\n",
            "  [0.65432025]]\n",
            "\n",
            " [[0.62396112]\n",
            "  [0.61185511]\n",
            "  [0.6199467 ]\n",
            "  ...\n",
            "  [0.65557474]\n",
            "  [0.65432025]\n",
            "  [0.6540066 ]]]\n",
            "_______\n",
            "[0.02924573 0.03081387 0.03258587 ... 0.65432025 0.6540066  0.64415871]\n"
          ]
        }
      ],
      "source": [
        "close_prices = stock_data['Close']\n",
        "values = close_prices.values\n",
        "print(values)\n",
        "training_data_len = math.ceil(len(values)* 0.8)\n",
        "\n",
        "scaler = MinMaxScaler(feature_range=(0,1))\n",
        "scaled_data = scaler.fit_transform(values.reshape(-1,1))\n",
        "\n",
        "train_data = scaled_data[0: training_data_len, :]\n",
        "\n",
        "x_train = []\n",
        "y_train = []\n",
        "\n",
        "for i in range(60, len(train_data)):\n",
        "    x_train.append(train_data[i-60:i, 0])\n",
        "    y_train.append(train_data[i, 0])\n",
        "    \n",
        "x_train, y_train = np.array(x_train), np.array(y_train)\n",
        "\n",
        "x_train = np.reshape(x_train, (x_train.shape[0], x_train.shape[1], 1))\n",
        "print(x_train)\n",
        "print('_______')\n",
        "print(y_train)"
      ]
    },
    {
      "cell_type": "code",
      "execution_count": null,
      "metadata": {
        "id": "mY_yteE5Y9I6",
        "colab": {
          "base_uri": "https://localhost:8080/"
        },
        "outputId": "f1b7c94f-b4df-4efb-d2d3-343000569483"
      },
      "outputs": [
        {
          "output_type": "stream",
          "name": "stdout",
          "text": [
            "[[[0.61185511]\n",
            "  [0.6199467 ]\n",
            "  [0.58820765]\n",
            "  ...\n",
            "  [0.65432025]\n",
            "  [0.6540066 ]\n",
            "  [0.64415871]]\n",
            "\n",
            " [[0.6199467 ]\n",
            "  [0.58820765]\n",
            "  [0.61787675]\n",
            "  ...\n",
            "  [0.6540066 ]\n",
            "  [0.64415871]\n",
            "  [0.63995612]]\n",
            "\n",
            " [[0.58820765]\n",
            "  [0.61787675]\n",
            "  [0.61091427]\n",
            "  ...\n",
            "  [0.64415871]\n",
            "  [0.63995612]\n",
            "  [0.63788617]]\n",
            "\n",
            " ...\n",
            "\n",
            " [[0.74627569]\n",
            "  [0.75480635]\n",
            "  [0.77632122]\n",
            "  ...\n",
            "  [0.80191311]\n",
            "  [0.80404585]\n",
            "  [0.8102556 ]]\n",
            "\n",
            " [[0.75480635]\n",
            "  [0.77632122]\n",
            "  [0.78064919]\n",
            "  ...\n",
            "  [0.80404585]\n",
            "  [0.8102556 ]\n",
            "  [0.79821233]]\n",
            "\n",
            " [[0.77632122]\n",
            "  [0.78064919]\n",
            "  [0.76703779]\n",
            "  ...\n",
            "  [0.8102556 ]\n",
            "  [0.79821233]\n",
            "  [0.75204642]]]\n",
            "______\n",
            "[124.61000061 124.27999878 125.05999756 123.54000092 125.88999939\n",
            " 125.90000153 126.73999786 127.12999725 126.11000061 127.34999847\n",
            " 130.47999573 129.63999939 130.1499939  131.78999329 130.46000671\n",
            " 132.30000305 133.97999573 133.69999695 133.41000366 133.11000061\n",
            " 134.77999878 136.33000183 136.96000671 137.27000427 139.96000671\n",
            " 142.02000427 144.57000732 143.24000549 145.11000061 144.5\n",
            " 145.63999939 149.1499939  148.47999573 146.38999939 142.44999695\n",
            " 146.1499939  145.3999939  146.80000305 148.55999756 148.99000549\n",
            " 146.77000427 144.97999573 145.63999939 145.86000061 145.52000427\n",
            " 147.36000061 146.94999695 147.05999756 146.13999939 146.08999634\n",
            " 145.6000061  145.86000061 148.88999939 149.1000061  151.11999512\n",
            " 150.19000244 146.36000061 146.69999695 148.19000244 149.71000671\n",
            " 149.61999512 148.36000061 147.53999329 148.6000061  153.11999512\n",
            " 151.83000183 152.50999451 153.6499939  154.30000305 156.69000244\n",
            " 155.11000061 154.07000732 148.97000122 149.55000305 148.11999512\n",
            " 149.02999878 148.78999329 146.05999756 142.94000244 143.42999268\n",
            " 145.8500061  146.83000183 146.91999817 145.36999512 141.91000366\n",
            " 142.83000183 141.5        142.6499939  139.13999939 141.11000061\n",
            " 142.         143.28999329 142.8999939  142.80999756 141.50999451\n",
            " 140.91000366 143.75999451 144.83999634 146.55000305 148.75999451\n",
            " 149.25999451 149.47999573 148.69000244 148.63999939 149.32000732\n",
            " 148.8500061  152.57000732 149.80000305 148.96000671 150.02000427\n",
            " 151.49000549 150.96000671 151.27999878 150.44000244 150.80999756\n",
            " 147.91999817 147.86999512 149.99000549 150.         151.\n",
            " 153.49000549 157.86999512 160.55000305 161.02000427 161.41000366\n",
            " 161.94000244 156.80999756 160.24000549 165.30000305 164.77000427\n",
            " 163.75999451 161.83999634 165.32000732 171.17999268 175.08000183\n",
            " 174.55999756 179.44999695 175.74000549 174.33000183 179.30000305\n",
            " 172.25999451 171.13999939 169.75       172.99000549 175.63999939\n",
            " 176.27999878 180.33000183 179.28999329 179.38000488 178.19999695\n",
            " 177.57000732 182.00999451 179.69999695 174.91999817 172.\n",
            " 172.16999817 172.19000244 175.08000183 175.52999878 172.19000244\n",
            " 173.07000732 169.80000305 166.22999573 164.50999451 162.41000366\n",
            " 161.61999512 159.77999878 159.69000244 159.22000122 170.33000183\n",
            " 174.77999878 174.61000061 175.83999634 172.8999939  172.38999939\n",
            " 171.66000366 174.83000183 176.27999878 172.11999512 168.63999939\n",
            " 168.88000488 172.78999329 172.55000305 168.88000488 167.30000305\n",
            " 164.32000732 160.07000732 162.74000549 164.8500061  165.11999512\n",
            " 163.19999695 166.55999756 166.22999573 163.16999817 159.30000305\n",
            " 157.44000244 162.94999695 158.52000427 154.72999573 150.61999512\n",
            " 155.08999634 159.58999634 160.61999512 163.97999573 165.38000488\n",
            " 168.82000732 170.21000671 174.07000732 174.72000122 175.6000061\n",
            " 178.96000671 177.77000427 174.61000061 174.30999756 178.44000244\n",
            " 175.05999756 171.83000183 172.13999939 170.08999634 165.75\n",
            " 167.66000366 170.3999939  165.28999329 165.07000732 167.3999939\n",
            " 167.22999573 166.41999817 161.78999329 162.88000488 156.80000305\n",
            " 156.57000732 163.63999939 157.6499939  157.96000671 159.47999573\n",
            " 166.02000427 156.77000427 157.27999878 152.05999756 154.50999451\n",
            " 146.5        142.55999756 147.11000061 145.53999329 149.24000549\n",
            " 140.82000732 137.3500061  137.58999634 143.11000061 140.36000061\n",
            " 140.52000427 143.77999878 149.63999939 148.83999634 148.71000671\n",
            " 151.21000671 145.38000488 146.13999939 148.71000671 147.96000671\n",
            " 142.63999939 137.13000488 131.88000488 132.75999451 135.42999268\n",
            " 130.05999756 131.55999756 135.86999512 135.3500061  138.27000427\n",
            " 141.66000366 141.66000366 137.44000244 139.22999573 136.72000122\n",
            " 138.92999268 141.55999756 142.91999817 146.3500061  147.03999329\n",
            " 144.86999512 145.86000061 145.49000549 148.47000122 150.16999817\n",
            " 147.07000732 151.         153.03999329 155.3500061  154.08999634\n",
            " 152.94999695 151.6000061  156.78999329 157.3500061  162.50999451\n",
            " 161.50999451 160.00999451 166.13000488 165.80999756 165.3500061\n",
            " 164.86999512 164.91999817 169.24000549 168.49000549 172.1000061\n",
            " 173.19000244 173.02999878 174.55000305 174.1499939  171.52000427\n",
            " 167.57000732 167.22999573 167.52999878 170.02999878 163.61999512\n",
            " 161.38000488 158.91000366 157.22000122 157.96000671 155.80999756\n",
            " 154.52999878 155.96000671 154.46000671 157.36999512 163.42999268\n",
            " 153.83999634 155.30999756 152.36999512 150.69999695 154.47999573\n",
            " 156.8999939  153.72000122 152.74000549 150.42999268 150.77000427\n",
            " 151.75999451 149.83999634 142.47999573 138.19999695]\n"
          ]
        }
      ],
      "source": [
        "test_data = scaled_data[training_data_len-60: , : ]\n",
        "x_test = []\n",
        "y_test = values[training_data_len:]\n",
        "\n",
        "for i in range(60, len(test_data)):\n",
        "  x_test.append(test_data[i-60:i, 0])\n",
        "\n",
        "x_test = np.array(x_test)\n",
        "x_test = np.reshape(x_test, (x_test.shape[0], x_test.shape[1], 1))\n",
        "print(x_test)\n",
        "print('______')\n",
        "print(y_test)"
      ]
    },
    {
      "cell_type": "code",
      "execution_count": null,
      "metadata": {
        "id": "yMi0D0B_XKoh"
      },
      "outputs": [],
      "source": [
        "model = keras.Sequential()\n",
        "model.add(layers.LSTM(100, return_sequences=True, input_shape=(x_train.shape[1], 1)))\n",
        "model.add(layers.LSTM(100, return_sequences=False))\n",
        "model.add(layers.Dense(25))\n",
        "model.add(layers.Dense(1))\n",
        "model.summary()"
      ]
    },
    {
      "cell_type": "code",
      "execution_count": null,
      "metadata": {
        "colab": {
          "base_uri": "https://localhost:8080/"
        },
        "id": "_7vkTHkdY0Gt",
        "outputId": "e0912a9c-8046-43cb-bc3d-3841c6ce8dee"
      },
      "outputs": [
        {
          "output_type": "stream",
          "name": "stdout",
          "text": [
            "Epoch 1/10\n",
            "1300/1300 [==============================] - 48s 33ms/step - loss: 5.6600e-04\n",
            "Epoch 2/10\n",
            "1300/1300 [==============================] - 44s 34ms/step - loss: 4.4354e-04\n",
            "Epoch 3/10\n",
            "1300/1300 [==============================] - 46s 35ms/step - loss: 4.4373e-04\n",
            "Epoch 4/10\n",
            "1300/1300 [==============================] - 46s 36ms/step - loss: 2.4048e-04\n",
            "Epoch 5/10\n",
            "1300/1300 [==============================] - 53s 41ms/step - loss: 3.6119e-04\n",
            "Epoch 6/10\n",
            "1300/1300 [==============================] - 52s 40ms/step - loss: 2.1462e-04\n",
            "Epoch 7/10\n",
            "1300/1300 [==============================] - 49s 38ms/step - loss: 2.4789e-04\n",
            "Epoch 8/10\n",
            "1300/1300 [==============================] - 49s 38ms/step - loss: 2.6492e-04\n",
            "Epoch 9/10\n",
            "1300/1300 [==============================] - 45s 35ms/step - loss: 2.5712e-04\n",
            "Epoch 10/10\n",
            "1300/1300 [==============================] - 45s 35ms/step - loss: 2.3762e-04\n"
          ]
        },
        {
          "output_type": "execute_result",
          "data": {
            "text/plain": [
              "<keras.callbacks.History at 0x7f219a5ba070>"
            ]
          },
          "metadata": {},
          "execution_count": 13
        }
      ],
      "source": [
        "model.compile(optimizer='adam', loss='mean_squared_error')\n",
        "model.fit(x_train, y_train, batch_size= 1, epochs=10)"
      ]
    },
    {
      "cell_type": "code",
      "execution_count": null,
      "metadata": {
        "colab": {
          "base_uri": "https://localhost:8080/"
        },
        "id": "UKSRrHkiYcwd",
        "outputId": "59ec9af1-4183-4cf8-c35a-afadaf191b68"
      },
      "outputs": [
        {
          "output_type": "stream",
          "name": "stdout",
          "text": [
            "11/11 [==============================] - 0s 29ms/step\n"
          ]
        },
        {
          "output_type": "execute_result",
          "data": {
            "text/plain": [
              "8.773435992125565"
            ]
          },
          "metadata": {},
          "execution_count": 10
        }
      ],
      "source": [
        "predictions = model.predict(x_test)\n",
        "predictions = scaler.inverse_transform(predictions)\n",
        "rmse = np.sqrt(np.mean(predictions - y_test)**2)\n",
        "rmse"
      ]
    },
    {
      "cell_type": "code",
      "execution_count": null,
      "metadata": {
        "colab": {
          "base_uri": "https://localhost:8080/",
          "height": 1000
        },
        "id": "BJknHgqwZRrR",
        "outputId": "a3664d40-3925-446d-9e14-f3da9b5cbe79"
      },
      "outputs": [
        {
          "output_type": "stream",
          "name": "stdout",
          "text": [
            "                 Close\n",
            "Date                  \n",
            "2016-01-04   26.337500\n",
            "2016-01-05   25.677500\n",
            "2016-01-06   25.174999\n",
            "2016-01-07   24.112499\n",
            "2016-01-08   24.240000\n",
            "...                ...\n",
            "2022-09-26  150.770004\n",
            "2022-09-27  151.759995\n",
            "2022-09-28  149.839996\n",
            "2022-09-29  142.479996\n",
            "2022-09-30  138.199997\n",
            "\n",
            "[1699 rows x 1 columns]\n",
            "                 Close\n",
            "Date                  \n",
            "2016-01-04   26.337500\n",
            "2016-01-05   25.677500\n",
            "2016-01-06   25.174999\n",
            "2016-01-07   24.112499\n",
            "2016-01-08   24.240000\n",
            "...                ...\n",
            "2021-05-21  125.430000\n",
            "2021-05-24  127.099998\n",
            "2021-05-25  126.900002\n",
            "2021-05-26  126.849998\n",
            "2021-05-27  125.279999\n",
            "\n",
            "[1360 rows x 1 columns]\n",
            "                 Close  Predictions\n",
            "Date                               \n",
            "2021-05-28  124.610001   121.589104\n",
            "2021-06-01  124.279999   121.376595\n",
            "2021-06-02  125.059998   121.077965\n",
            "2021-06-03  123.540001   120.866058\n",
            "2021-06-04  125.889999   120.541801\n",
            "...                ...          ...\n",
            "2022-09-26  150.770004   145.369629\n",
            "2022-09-27  151.759995   144.810562\n",
            "2022-09-28  149.839996   144.424133\n",
            "2022-09-29  142.479996   143.938309\n",
            "2022-09-30  138.199997   142.634537\n",
            "\n",
            "[339 rows x 2 columns]\n"
          ]
        },
        {
          "output_type": "stream",
          "name": "stderr",
          "text": [
            "<ipython-input-12-4bddc3a70300>:5: SettingWithCopyWarning: \n",
            "A value is trying to be set on a copy of a slice from a DataFrame.\n",
            "Try using .loc[row_indexer,col_indexer] = value instead\n",
            "\n",
            "See the caveats in the documentation: https://pandas.pydata.org/pandas-docs/stable/user_guide/indexing.html#returning-a-view-versus-a-copy\n",
            "  validation['Predictions'] = predictions\n"
          ]
        },
        {
          "output_type": "display_data",
          "data": {
            "text/plain": [
              "<Figure size 1152x576 with 1 Axes>"
            ],
            "image/png": "[encoded data removed]"
          },
          "metadata": {
            "needs_background": "light"
          }
        }
      ],
      "source": [
        "data = stock_data.filter(['Close'])\n",
        "print(data)\n",
        "train = data[:training_data_len]\n",
        "validation = data[training_data_len:]\n",
        "validation['Predictions'] = predictions\n",
        "print(train)\n",
        "print(validation)\n",
        "plt.figure(figsize=(16,8))\n",
        "plt.title('Model')\n",
        "plt.xlabel('Date')\n",
        "plt.ylabel('Close Price USD ($)')\n",
        "plt.plot(train)\n",
        "plt.plot(validation[['Close', 'Predictions']])\n",
        "plt.legend(['Train', 'Val', 'Predictions'])\n",
        "plt.show()"
      ]
    },
    {
      "cell_type": "code",
      "source": [
        "# model = load_trained_model()\n",
        "\n",
        "# Define the input sequence\n",
        "# sequence = [1, 2, 3, 4, 5]\n",
        "\n",
        "# # Use the model to predict the next n values in the sequence\n",
        "# predictions = model.predict(test_data,steps=3)\n",
        "\n",
        "# # Print the predicted values\n",
        "# print(predictions)"
      ],
      "metadata": {
        "id": "MmtTus7oo84L"
      },
      "execution_count": null,
      "outputs": []
    },
    {
      "cell_type": "code",
      "execution_count": null,
      "metadata": {
        "id": "JJZLvdxwpI73"
      },
      "outputs": [],
      "source": [
        "# predicting future values\n",
        "\n",
        "# generate the multi-step forecasts\n",
        "def multi_step_forecasts(n_past, n_future):\n",
        "\n",
        "    x_past = x_train[- n_past - 1:, :, :][:1]  # last observed input sequence\n",
        "    y_past = y_train[- n_past - 1]             # last observed target value\n",
        "    y_future = []                        # predicted target values\n",
        "\n",
        "    for i in range(n_past + n_future):\n",
        "\n",
        "        # feed the last forecast back to the model as an input\n",
        "        x_past = np.append(x_past[:, 1:, :], y_past.reshape(1, 1, 1), axis=1)\n",
        "\n",
        "        # generate the next forecast\n",
        "        y_past = model.predict(x_past)\n",
        "\n",
        "        # save the forecast\n",
        "        y_future.append(y_past.flatten()[0])\n",
        "\n",
        "    # transform the forecasts back to the original scale\n",
        "    y_future = scaler.inverse_transform(np.array(y_future).reshape(-1, 1)).flatten()\n",
        "\n",
        "    # add the forecasts to the data frame\n",
        "    df_past = data.rename(columns={'Close': 'Actual'}).copy()\n",
        "\n",
        "    df_future = pd.DataFrame(\n",
        "        index=pd.bdate_range(start=data.index[- n_past - 1] + pd.Timedelta(days=1), periods=n_past + n_future),\n",
        "        columns=['Forecast'],\n",
        "        data=y_future\n",
        "    )\n",
        "\n",
        "    return df_past.join(df_future, how='outer')\n",
        "\n"
      ]
    },
    {
      "cell_type": "code",
      "source": [
        "\n",
        "# forecast the next 30 days\n",
        "df1 = multi_step_forecasts(n_past=0, n_future=10)\n",
        "df1.plot(title=\"stock_name\")\n"
      ],
      "metadata": {
        "colab": {
          "base_uri": "https://localhost:8080/",
          "height": 473
        },
        "id": "WsOc0L96l4_3",
        "outputId": "3fff6e79-8f39-4ba3-e00a-919490715e33"
      },
      "execution_count": null,
      "outputs": [
        {
          "output_type": "stream",
          "name": "stdout",
          "text": [
            "1/1 [==============================] - 0s 23ms/step\n",
            "1/1 [==============================] - 0s 28ms/step\n",
            "1/1 [==============================] - 0s 25ms/step\n",
            "1/1 [==============================] - 0s 25ms/step\n",
            "1/1 [==============================] - 0s 27ms/step\n",
            "1/1 [==============================] - 0s 24ms/step\n",
            "1/1 [==============================] - 0s 27ms/step\n",
            "1/1 [==============================] - 0s 24ms/step\n",
            "1/1 [==============================] - 0s 23ms/step\n",
            "1/1 [==============================] - 0s 24ms/step\n"
          ]
        },
        {
          "output_type": "execute_result",
          "data": {
            "text/plain": [
              "<matplotlib.axes._subplots.AxesSubplot at 0x7ffa79fc22e0>"
            ]
          },
          "metadata": {},
          "execution_count": 30
        },
        {
          "output_type": "display_data",
          "data": {
            "text/plain": [
              "<Figure size 432x288 with 1 Axes>"
            ],
            "image/png": "[encoded data removed]"
          },
          "metadata": {
            "needs_background": "light"
          }
        }
      ]
    }
  ],
  "metadata": {
    "colab": {
      "provenance": [],
      "include_colab_link": true
    },
    "kernelspec": {
      "display_name": "Python 3 (ipykernel)",
      "language": "python",
      "name": "python3"
    },
    "language_info": {
      "codemirror_mode": {
        "name": "ipython",
        "version": 3
      },
      "file_extension": ".py",
      "mimetype": "text/x-python",
      "name": "python",
      "nbconvert_exporter": "python",
      "pygments_lexer": "ipython3",
      "version": "3.9.6"
    }
  },
  "nbformat": 4,
  "nbformat_minor": 0
}